{
 "cells": [
  {
   "cell_type": "markdown",
   "id": "0ecdd20f-bbc8-4908-840f-e268ae64d976",
   "metadata": {},
   "source": [
    "### 1. Write a program that accepts a string from user. Your program should count and display number of vowels in that string."
   ]
  },
  {
   "cell_type": "code",
   "execution_count": 1,
   "id": "8694a7b3-524f-42f1-96ab-5bacdcf794a7",
   "metadata": {},
   "outputs": [
    {
     "name": "stdout",
     "output_type": "stream",
     "text": [
      "vowels : ['e', 'o']\n",
      "vowels count : 2\n"
     ]
    }
   ],
   "source": [
    "user_input = \"Hello world\"\n",
    "vowels = [\"a\", \"e\", \"i\", \"o\", \"u\"]\n",
    "result = []\n",
    "for i in vowels:\n",
    "    if i in user_input:\n",
    "        result.append(i)\n",
    "print(f\"vowels : {result}\")\n",
    "print(f\"vowels count : {len(result)}\")"
   ]
  },
  {
   "cell_type": "markdown",
   "id": "1ed674b3-3d4a-479a-9db9-8b8079d6b65a",
   "metadata": {},
   "source": [
    "### 2- Write a program that reads a string from keyboard and display:\n",
    "*\n",
    "The number of uppercase letters in the string\n",
    "*\n",
    "The number of lowercase letters in the string\n",
    "*\n",
    "The number of digits in the string\n",
    "*\n",
    "The number of whitespace characters in the string"
   ]
  },
  {
   "cell_type": "code",
   "execution_count": 2,
   "id": "8ee54801-f1d6-4c25-abde-b1cec9432397",
   "metadata": {},
   "outputs": [
    {
     "name": "stdin",
     "output_type": "stream",
     "text": [
      "Enter a string:  Saleem 57\n"
     ]
    },
    {
     "name": "stdout",
     "output_type": "stream",
     "text": [
      "Uppercase letters: 1\n",
      "Lowercase letters: 5\n",
      "Digits: 2\n",
      "Whitespace characters: 1\n"
     ]
    }
   ],
   "source": [
    "string = input(\"Enter a string: \")\n",
    "\n",
    "uppercase_count = 0\n",
    "lowercase_count = 0\n",
    "digit_count = 0\n",
    "whitespace_count = 0\n",
    "\n",
    "for i in string:\n",
    "    if i.isupper():\n",
    "        uppercase_count += 1\n",
    "    elif i.islower():\n",
    "        lowercase_count += 1\n",
    "    elif i.isdigit():\n",
    "        digit_count += 1\n",
    "    elif i.isspace():\n",
    "        whitespace_count += 1\n",
    "\n",
    "print(f\"Uppercase letters: {uppercase_count}\")\n",
    "print(f\"Lowercase letters: {lowercase_count}\")\n",
    "print(f\"Digits: {digit_count}\")\n",
    "print(f\"Whitespace characters: {whitespace_count}\")"
   ]
  },
  {
   "cell_type": "markdown",
   "id": "0affc353-7b29-4814-83dd-9a928539a515",
   "metadata": {},
   "source": [
    "### 3. Write a Python program that accepts a string from user. Your program should create and display a new string where the first and last characters have been exchanged.\n",
    "*\n",
    "For example if the user enters the string 'HELLO' then new string would be 'OELLH'"
   ]
  },
  {
   "cell_type": "code",
   "execution_count": 8,
   "id": "a427a015-605f-4498-9bdd-70321cb6ea94",
   "metadata": {},
   "outputs": [
    {
     "name": "stdin",
     "output_type": "stream",
     "text": [
      "Enter a string:  HELLO\n"
     ]
    },
    {
     "name": "stdout",
     "output_type": "stream",
     "text": [
      "OELLH\n"
     ]
    }
   ],
   "source": [
    "user_string = input(\"Enter a string: \")\n",
    "print(user_string[-1] + user_string[1:4] + user_string[0])"
   ]
  },
  {
   "cell_type": "markdown",
   "id": "7f30b0e6-d3ce-4e20-927d-a63dc62c0344",
   "metadata": {},
   "source": [
    "### 4.Write a Python program that accepts a string from user. Your program should create a new string in reverse of first string and display it.\n",
    "*\r",
    "For example if the user enters the string 'EXAM' then new string would be 'MAXE''"
   ]
  },
  {
   "cell_type": "code",
   "execution_count": 15,
   "id": "dea0045d-9038-4983-a173-713bef8781fb",
   "metadata": {},
   "outputs": [
    {
     "name": "stdin",
     "output_type": "stream",
     "text": [
      "Enter a string:  EXAM\n"
     ]
    },
    {
     "name": "stdout",
     "output_type": "stream",
     "text": [
      "New string: MAXE\n"
     ]
    }
   ],
   "source": [
    "user_string = input(\"Enter a string: \")\n",
    "print(f\"New string: {user_string[::-1]}\")"
   ]
  },
  {
   "cell_type": "markdown",
   "id": "cb7cca0a-586c-49c1-852d-3b547442b5ea",
   "metadata": {},
   "source": [
    "### 5.Write a Python program that accepts a string from user. Your program should create a new string by shifting one position to left.\r",
    "*\n",
    "For example if the user enters the string 'examination 2021' then new string would be 'xamination 2021e'"
   ]
  },
  {
   "cell_type": "code",
   "execution_count": 17,
   "id": "6726fb33-837b-4470-9681-7581a6a2fef9",
   "metadata": {},
   "outputs": [
    {
     "name": "stdin",
     "output_type": "stream",
     "text": [
      "Enter a string: examination 2021\n"
     ]
    },
    {
     "name": "stdout",
     "output_type": "stream",
     "text": [
      "New string: xamination 2021e\n"
     ]
    }
   ],
   "source": [
    "user_string = input(\"Enter a string:\")\n",
    "print(f\"New string: {user_string[1:] + user_string[0]}\")"
   ]
  },
  {
   "cell_type": "markdown",
   "id": "36a48736-2f49-44d0-bfe8-97b166c21485",
   "metadata": {},
   "source": [
    "### 6. Write a program that asks the user to input his name and print its initials. Assuming that the user always types first name, middle name and last name and does not include any unnecessary spaces.\r",
    "*\n",
    "For example, if the user enters Ajay Kumar Garg the program should display A. K. G. Note:Don't use split() method"
   ]
  },
  {
   "cell_type": "code",
   "execution_count": 20,
   "id": "b53b2b31-06e5-485a-a170-466fb2b53c44",
   "metadata": {},
   "outputs": [
    {
     "name": "stdin",
     "output_type": "stream",
     "text": [
      "Enter Full name:  Muhammad Saleem\n"
     ]
    },
    {
     "name": "stdout",
     "output_type": "stream",
     "text": [
      "Name init:  M. S. \n"
     ]
    }
   ],
   "source": [
    "full_name = input(\"Enter Full name: \")\n",
    "init = \"\"\n",
    "for i in range(len(full_name)):\n",
    "    if i == 0  or full_name[i-1] == \" \":\n",
    "        init += full_name[i].upper() + \". \"\n",
    "        \n",
    "print(\"Name init: \", init) "
   ]
  },
  {
   "cell_type": "markdown",
   "id": "e32ab844-e66f-44a2-92f8-f47aa6bbc781",
   "metadata": {},
   "source": [
    "### 7. A palindrome is a string that reads the same backward as forward. For example, the words dad, madam and radar are all palindromes. Write a programs that determines whether the string is a palindrome.\r",
    "*\n",
    "Note: do not use reverse() method"
   ]
  },
  {
   "cell_type": "code",
   "execution_count": 22,
   "id": "b43f1325-1562-4de8-ab52-97e9fe323284",
   "metadata": {},
   "outputs": [
    {
     "name": "stdin",
     "output_type": "stream",
     "text": [
      "Enter a string:  1\n"
     ]
    },
    {
     "name": "stdout",
     "output_type": "stream",
     "text": [
      "The string is a palindrome.\n"
     ]
    }
   ],
   "source": [
    "string = input(\"Enter a string: \")\n",
    "if string == string[::-1]:\n",
    "    print(\"The string is a palindrome.\")\n",
    "else:\n",
    "    print(\"The string is a not palindrome.\")"
   ]
  },
  {
   "cell_type": "markdown",
   "id": "194352cb-fa9a-4ed4-b383-8fa822f4f5f2",
   "metadata": {},
   "source": [
    "### 8. Write a program that display following output:\n",
    "*\n",
    "SHIFT\n",
    "*\r\n",
    "HIFT\n",
    "*S\r\n",
    "IFT\n",
    "*SH\r\n",
    "FT\n",
    "*SHI\r\n",
    "T\n",
    "*SHIF\r\n",
    "SHIFT\n",
    "*\n",
    "\n",
    "*"
   ]
  },
  {
   "cell_type": "code",
   "execution_count": 24,
   "id": "4a601043-01fa-4668-bc16-00bf3b9bea89",
   "metadata": {},
   "outputs": [
    {
     "name": "stdout",
     "output_type": "stream",
     "text": [
      "SHIFT\n",
      "HIFTS\n",
      "IFTSH\n",
      "FTSHI\n",
      "TSHIF\n",
      "SHIFT\n"
     ]
    }
   ],
   "source": [
    "User_input = \"SHIFT\"\n",
    "for i in range(len(User_input) + 1):\n",
    "    print(User_input[i:] + User_input[:i])"
   ]
  },
  {
   "cell_type": "markdown",
   "id": "52190c9e-3a6e-414a-ab76-e93df721989e",
   "metadata": {},
   "source": [
    "### 9. Write a program in python that accepts a string to setup a passwords. Your entered password must meet the following requirements:\r",
    "*\n",
    "The password must be at least eight characters long.\n",
    "*\r\n",
    "It must contain at least one uppercase lette-\n",
    "*.\r\n",
    "It must contain at least one lowercase lete-\n",
    "*r.\r\n",
    "It must contain at least one numeric ig.\n",
    "*it.\r\n",
    "Your program should should perform this validation."
   ]
  },
  {
   "cell_type": "code",
   "execution_count": 25,
   "id": "b3bfdca4-e722-4af1-bbfd-072edd20f5fc",
   "metadata": {},
   "outputs": [
    {
     "name": "stdin",
     "output_type": "stream",
     "text": [
      "Enter a password: Saleem57\n"
     ]
    },
    {
     "name": "stdout",
     "output_type": "stream",
     "text": [
      "Password is Valid.\n"
     ]
    }
   ],
   "source": [
    "password = input(\"Enter a password:\")\n",
    "if len(password) < 8:\n",
    "    print(\"The password must be at least eight characters long.\")\n",
    "elif not any(char.isupper() for char in password):\n",
    "    print(\"It must contain at least one uppercase letter.\")\n",
    "elif not any(char.islower() for char in password):\n",
    "    print(\"It must contain at least one lowercase letter.\")\n",
    "elif not any(char.isdigit() for char in password):\n",
    "    print(\"It must contain at least one numeric digit.\")\n",
    "else:\n",
    "    print(\"Password is Valid.\")"
   ]
  },
  {
   "cell_type": "code",
   "execution_count": null,
   "id": "2921701e-1450-4f89-8bdb-ad2f89b8113d",
   "metadata": {},
   "outputs": [],
   "source": []
  }
 ],
 "metadata": {
  "kernelspec": {
   "display_name": "Python 3 (ipykernel)",
   "language": "python",
   "name": "python3"
  },
  "language_info": {
   "codemirror_mode": {
    "name": "ipython",
    "version": 3
   },
   "file_extension": ".py",
   "mimetype": "text/x-python",
   "name": "python",
   "nbconvert_exporter": "python",
   "pygments_lexer": "ipython3",
   "version": "3.11.7"
  }
 },
 "nbformat": 4,
 "nbformat_minor": 5
}
