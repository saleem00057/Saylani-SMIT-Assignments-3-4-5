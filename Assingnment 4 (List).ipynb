{
 "cells": [
  {
   "cell_type": "markdown",
   "id": "843cb1be-03b1-430c-b740-1ed283050cd8",
   "metadata": {},
   "source": [
    "### Assingment List"
   ]
  },
  {
   "cell_type": "markdown",
   "id": "b8450150-7e76-4a28-a54d-d078b5d4baf4",
   "metadata": {},
   "source": [
    "### 1. Write a program that accepts a list from user and print the alternate element of list."
   ]
  },
  {
   "cell_type": "code",
   "execution_count": 2,
   "id": "d6e7addc-b72a-4cc3-8071-6457a13f616c",
   "metadata": {},
   "outputs": [
    {
     "name": "stdin",
     "output_type": "stream",
     "text": [
      "enter your first name Deadpool\n",
      "enter your second name X men\n",
      "enter your third name Iron man\n"
     ]
    },
    {
     "name": "stdout",
     "output_type": "stream",
     "text": [
      "['Deadpool', 'X men', 'Iron man']\n"
     ]
    }
   ],
   "source": [
    "movies=[]\n",
    "movies.append(input(\"enter your first name\"))\n",
    "\n",
    "name = input(\"enter your second name\")\n",
    "movies.append(name)\n",
    "name = input(\"enter your third name\")\n",
    "movies.append(name)\n",
    "print(movies)"
   ]
  },
  {
   "cell_type": "markdown",
   "id": "a3afa033-75d2-44a3-9e07-1b1e1bedd8fc",
   "metadata": {},
   "source": [
    "### 2. Write a program that accepts a list from user. Your program should reverse the content of list and \n",
    "display it\n",
    "* Do not use reverse() method."
   ]
  },
  {
   "cell_type": "code",
   "execution_count": 7,
   "id": "46dd83ed-38ce-4b50-8026-c60e60f565f0",
   "metadata": {},
   "outputs": [
    {
     "name": "stdin",
     "output_type": "stream",
     "text": [
      "enter your numbers 5\n"
     ]
    },
    {
     "name": "stdout",
     "output_type": "stream",
     "text": [
      "['5']\n"
     ]
    }
   ],
   "source": [
    "user = input(\"enter your numbers\").split()\n",
    "reverse = user[::-1]\n",
    "print(reverse)"
   ]
  },
  {
   "cell_type": "markdown",
   "id": "b4bfbe2f-7404-48e7-91c1-850858586eaf",
   "metadata": {},
   "source": [
    "### 3.Find and display the largest number of a list without using built-in function max(). Your program \n",
    "should ask the user to input values in list from keyboard."
   ]
  },
  {
   "cell_type": "code",
   "execution_count": 11,
   "id": "cb86cf73-bda7-4b98-bf94-aebb2111d8a6",
   "metadata": {},
   "outputs": [
    {
     "name": "stdin",
     "output_type": "stream",
     "text": [
      "enter your numbers 9\n"
     ]
    },
    {
     "name": "stdout",
     "output_type": "stream",
     "text": [
      "you num is 9\n"
     ]
    }
   ],
   "source": [
    "user_list = list(map(int,input(\"enter your numbers\").split()))\n",
    "largest_num = user_list[0]\n",
    "for num in user_list:\n",
    "    if num > largest_num:\n",
    "        largest_num = num\n",
    "print(f\"you num is {largest_num}\")"
   ]
  },
  {
   "cell_type": "markdown",
   "id": "120334fc-b84c-4ac2-b4ac-54d8a3fa45de",
   "metadata": {},
   "source": [
    "### 4.Write a program that rotates the element of a list so that the element at the first index moves to the\n",
    "second index, the element in the second index moves to the third index, etc., and the element in the las \r\n",
    "index moves to the first index."
   ]
  },
  {
   "cell_type": "code",
   "execution_count": 14,
   "id": "40d75695-ac12-4a9c-bd9b-55f69eae7fb2",
   "metadata": {},
   "outputs": [
    {
     "name": "stdin",
     "output_type": "stream",
     "text": [
      "enter your multiple elements for rotating 1 2 3 4\n"
     ]
    },
    {
     "name": "stdout",
     "output_type": "stream",
     "text": [
      "your rotated list  is:  ['4', '1', '2', '3']\n"
     ]
    }
   ],
   "source": [
    "element = input(\"enter your multiple elements for rotating\").split()\n",
    "\n",
    "rotate = [element[-1]] + element[:-1]\n",
    "\n",
    "print(\"your rotated list  is: \",rotate)"
   ]
  },
  {
   "cell_type": "markdown",
   "id": "0b83dc36-9fcb-4bd4-8ecd-829df37fbdcd",
   "metadata": {},
   "source": [
    "### 5.Write a program that input a string and ask user to delete a given word from a string."
   ]
  },
  {
   "cell_type": "code",
   "execution_count": 18,
   "id": "635479f0-f1f3-4546-a46f-883d873e5e17",
   "metadata": {},
   "outputs": [
    {
     "name": "stdin",
     "output_type": "stream",
     "text": [
      "enter your words  S a l \n"
     ]
    },
    {
     "name": "stdout",
     "output_type": "stream",
     "text": [
      "modified word is \n",
      "\n"
     ]
    }
   ],
   "source": [
    "user_word = input(\"enter your words \")\n",
    "modified_word = user_word.replace(user_word,\"\").strip()\n",
    "modified_word = \" \".join(modified_word.split())\n",
    "print(\"modified word is \")\n",
    "print(modified_word)"
   ]
  },
  {
   "cell_type": "markdown",
   "id": "68158084-2ba5-437f-9e65-bbbbcd30d812",
   "metadata": {},
   "source": [
    "### 6. Write a program that reads a string from the user containing a date in the form mm/dd/yyyy. It\n",
    "should print the date in the form March 12, 2021."
   ]
  },
  {
   "cell_type": "code",
   "execution_count": 21,
   "id": "4e76eaa9-bb47-454b-a9ce-95366fc1e161",
   "metadata": {},
   "outputs": [
    {
     "name": "stdin",
     "output_type": "stream",
     "text": [
      "Enter a date in the format mm/dd/yyyy:  08/18/2024\n"
     ]
    },
    {
     "name": "stdout",
     "output_type": "stream",
     "text": [
      "August 18, 2024\n"
     ]
    }
   ],
   "source": [
    "months = {\n",
    "    \"01\": \"January\", \"02\": \"February\", \"03\": \"March\", \"04\": \"April\",\n",
    "    \"05\": \"May\", \"06\": \"June\", \"07\": \"July\", \"08\": \"August\",\n",
    "    \"09\": \"September\", \"10\": \"October\", \"11\": \"November\", \"12\": \"December\"\n",
    "}\n",
    "date = input(\"Enter a date in the format mm/dd/yyyy: \")\n",
    "month, day, year =date.split(\"/\")\n",
    "day = str(int(day))\n",
    "month_name = months[month]\n",
    "print(f\"{month_name} {day}, {year}\")"
   ]
  },
  {
   "cell_type": "markdown",
   "id": "a1ab858c-951b-4b4b-b6aa-050b113e8177",
   "metadata": {},
   "source": [
    "### 7. Write a program with a function that accepts a string from keyboard and create a new string after \n",
    "converting character of each word capitalized. For instance, if the sentence is \"stop and smell the roses.\r\n",
    "the output should be \"Stop And Smell The Roses\""
   ]
  },
  {
   "cell_type": "code",
   "execution_count": 22,
   "id": "32108784-aeb9-48d2-8683-095da3946388",
   "metadata": {},
   "outputs": [
    {
     "name": "stdin",
     "output_type": "stream",
     "text": [
      "Enter a sentence:  stop and smell the roses\n"
     ]
    },
    {
     "name": "stdout",
     "output_type": "stream",
     "text": [
      "Capitalized sentence is:\n",
      "Stop And Smell The Roses\n"
     ]
    }
   ],
   "source": [
    "def capital_words(input_string):\n",
    "    capital_string = input_string.title()\n",
    "    return capital_string\n",
    "# dendur\n",
    "if __name__ == '__main__':\n",
    "    user_input = input(\"Enter a sentence: \")\n",
    "    final = capital_words(user_input)\n",
    "    print(\"Capitalized sentence is:\")\n",
    "    print(final)"
   ]
  },
  {
   "attachments": {
    "0c263126-6f1f-46ab-a7c6-d51e2a82683f.png": {
     "image/png": "[encoded data removed]"
    }
   },
   "cell_type": "markdown",
   "id": "14085dc5-20b9-48dd-aae5-23598e9d1a4f",
   "metadata": {},
   "source": [
    "### 8. Find the sum of each row of matrix of size m x n. For example for the following matrix output will be \n",
    "like this \n",
    "![image.png](attachment:0c263126-6f1f-46ab-a7c6-d51e2a82683f.png)\n",
    "*\n",
    "Sum of row 1 = 32\n",
    "*\r\n",
    "Sum of row 2 = 3\n",
    "1*\r\n",
    "Sum of row 3 = 63:"
   ]
  },
  {
   "cell_type": "code",
   "execution_count": 24,
   "id": "ac917fa2-604e-48ec-9cef-49b7b433ad5c",
   "metadata": {},
   "outputs": [
    {
     "name": "stdout",
     "output_type": "stream",
     "text": [
      "[2, 11, 7, 12]\n",
      "[5, 2, 9, 15]\n",
      "[8, 3, 10, 42]\n",
      "Sum of row 1 = 32\n",
      "Sum of row 2 = 31\n",
      "Sum of row 3 = 63\n"
     ]
    }
   ],
   "source": [
    "\n",
    "def sum_row(matrix):\n",
    "    for i, row in enumerate(matrix):\n",
    "        row_sum = sum(row)\n",
    "        print(f\"Sum of row {i + 1} = {row_sum}\")\n",
    "\n",
    "if __name__ == '__main__':\n",
    "    matrix = [\n",
    "        [2, 11, 7, 12],\n",
    "        [5, 2, 9, 15],\n",
    "        [8, 3, 10, 42]\n",
    "    ]\n",
    "    for row in matrix:\n",
    "        print(row)\n",
    "    sum_row(matrix)"
   ]
  },
  {
   "cell_type": "markdown",
   "id": "41fe4f8c-6dbc-44f1-ac8b-2e4cac3d8610",
   "metadata": {},
   "source": [
    "### 9. Write a program to add two matrices of size n x m."
   ]
  },
  {
   "cell_type": "code",
   "execution_count": 28,
   "id": "c092c403-34d8-49a4-954a-6edc8dba64bb",
   "metadata": {},
   "outputs": [
    {
     "name": "stdout",
     "output_type": "stream",
     "text": [
      "Result is :  \n",
      "[5, 5, 5]\n",
      "[7, 7, 7]\n",
      "[9, 9, 9]\n"
     ]
    }
   ],
   "source": [
    "def add_matrices(matrix1, matrix2):\n",
    "    result = []\n",
    "    for i in range(len(matrix1)):\n",
    "        row = []\n",
    "        for j in range(len(matrix1[0])):\n",
    "            row.append(matrix1[i][j] + matrix2[i][j])\n",
    "        result.append(row)\n",
    "    return result\n",
    "if __name__ == '__main__':\n",
    "    #  two matrices of size n x m\n",
    "    matrix1 = [\n",
    "        [1, 1, 1],\n",
    "        [2, 2, 2],\n",
    "        [3, 3, 3]\n",
    "    ]\n",
    "    matrix2 = [\n",
    "        [4, 4, 4],\n",
    "        [5, 5, 5],\n",
    "        [6, 6, 6]\n",
    "    ]\n",
    "    result_matrix = add_matrices(matrix1, matrix2)\n",
    "    print(\"Result is :  \")\n",
    "    for row in result_matrix:\n",
    "        print(row)"
   ]
  },
  {
   "cell_type": "markdown",
   "id": "e1b666e6-0712-4a36-a283-815f27b5757e",
   "metadata": {},
   "source": [
    "### 10. Write a program to multiply two matrices"
   ]
  },
  {
   "cell_type": "code",
   "execution_count": 29,
   "id": "eafff153-3f51-4f90-ac4b-21e4f1110b7e",
   "metadata": {},
   "outputs": [
    {
     "name": "stdout",
     "output_type": "stream",
     "text": [
      "Result is : \n",
      "[4, 4, 4]\n",
      "[10, 10, 10]\n",
      "[18, 18, 18]\n"
     ]
    }
   ],
   "source": [
    "def multiply_matrices(matrix1, matrix2):\n",
    "    result = []\n",
    "    for i in range(len(matrix1)):\n",
    "        row = []\n",
    "        for j in range(len(matrix1[0])):\n",
    "            row.append(matrix1[i][j] * matrix2[i][j])\n",
    "        result.append(row)\n",
    "    return result\n",
    "if __name__ == '__main__':\n",
    "    #  two matrices of size n x m\n",
    "    matrix1 = [\n",
    "        [1, 1, 1],\n",
    "        [2, 2, 2],\n",
    "        [3, 3, 3]\n",
    "    ]\n",
    "    matrix2 = [\n",
    "        [4, 4, 4],\n",
    "        [5, 5, 5],\n",
    "        [6, 6, 6]\n",
    "    ]\n",
    "    result_matrix = multiply_matrices(matrix1, matrix2)\n",
    "    print(\"Result is : \")\n",
    "    for row in result_matrix:\n",
    "        print(row)"
   ]
  },
  {
   "cell_type": "code",
   "execution_count": null,
   "id": "f4cf6bc6-a573-4c9b-a4b2-010d48c8895b",
   "metadata": {},
   "outputs": [],
   "source": []
  }
 ],
 "metadata": {
  "kernelspec": {
   "display_name": "Python 3 (ipykernel)",
   "language": "python",
   "name": "python3"
  },
  "language_info": {
   "codemirror_mode": {
    "name": "ipython",
    "version": 3
   },
   "file_extension": ".py",
   "mimetype": "text/x-python",
   "name": "python",
   "nbconvert_exporter": "python",
   "pygments_lexer": "ipython3",
   "version": "3.11.7"
  }
 },
 "nbformat": 4,
 "nbformat_minor": 5
}
