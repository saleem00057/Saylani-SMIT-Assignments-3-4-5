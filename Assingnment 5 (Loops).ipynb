{
 "cells": [
  {
   "cell_type": "markdown",
   "id": "7b494d2c-8fd7-45d5-b865-513579d959d5",
   "metadata": {},
   "source": [
    "### Looping structure"
   ]
  },
  {
   "cell_type": "markdown",
   "id": "c668a7f6-c8c8-48f8-8d3d-827a86f4320b",
   "metadata": {},
   "source": [
    "### 1-Write a Python program to print the numbers from 1 to 10 using a for loop.?"
   ]
  },
  {
   "cell_type": "code",
   "execution_count": 1,
   "id": "cf941b0e-5868-41a5-a885-6f2c03f19564",
   "metadata": {},
   "outputs": [
    {
     "name": "stdout",
     "output_type": "stream",
     "text": [
      "1\n",
      "2\n",
      "3\n",
      "4\n",
      "5\n",
      "6\n",
      "7\n",
      "8\n",
      "9\n",
      "10\n"
     ]
    }
   ],
   "source": [
    "nums = [1,2,3,4,5,6,7,8,9,10]\n",
    "for value in nums:\n",
    "     print(value)"
   ]
  },
  {
   "cell_type": "markdown",
   "id": "23ba0298-ad8a-48a8-aa0b-a8e407ee3c0b",
   "metadata": {},
   "source": [
    "### 2-Write a Python program to print the numbers from 20 to 1 using a while loop.?"
   ]
  },
  {
   "cell_type": "code",
   "execution_count": 2,
   "id": "de41ec24-1b7e-4059-9449-bfa0d554fc7e",
   "metadata": {},
   "outputs": [
    {
     "name": "stdout",
     "output_type": "stream",
     "text": [
      "20\n",
      "19\n",
      "18\n",
      "17\n",
      "16\n",
      "15\n",
      "14\n",
      "13\n",
      "12\n",
      "11\n",
      "10\n",
      "9\n",
      "8\n",
      "7\n",
      "6\n",
      "5\n",
      "4\n",
      "3\n",
      "2\n",
      "1\n"
     ]
    }
   ],
   "source": [
    "num = 20\n",
    "while num >= 1:\n",
    "    print(num)\n",
    "    num -=1"
   ]
  },
  {
   "cell_type": "markdown",
   "id": "86994a38-e4d2-456b-90ec-0f80ee318196",
   "metadata": {},
   "source": [
    "### 3-Write a program to print even numbers from 1 to 10.?"
   ]
  },
  {
   "cell_type": "code",
   "execution_count": 3,
   "id": "88e5ac46-2953-473b-a551-5993a33f743f",
   "metadata": {},
   "outputs": [
    {
     "name": "stdout",
     "output_type": "stream",
     "text": [
      "2\n",
      "4\n",
      "6\n",
      "8\n",
      "10\n"
     ]
    }
   ],
   "source": [
    "for num in range(1,11):\n",
    " if num % 2==0:\n",
    "    print(num)\n"
   ]
  },
  {
   "cell_type": "markdown",
   "id": "d403b792-29af-4e1e-a56f-12489b5a5c7e",
   "metadata": {},
   "source": [
    "### 4.Write a program that prompts the user to enter a number n and prints all the \n",
    "numbers fro  1 to n."
   ]
  },
  {
   "cell_type": "code",
   "execution_count": 12,
   "id": "89e364e0-ac92-4113-915a-ae9ab2f4feb9",
   "metadata": {},
   "outputs": [
    {
     "name": "stdin",
     "output_type": "stream",
     "text": [
      "numer from user  5\n"
     ]
    },
    {
     "name": "stdout",
     "output_type": "stream",
     "text": [
      "1\n",
      "2\n",
      "3\n",
      "4\n",
      "5\n"
     ]
    }
   ],
   "source": [
    "n = int(input(\"numer from user \"))\n",
    "for i in range(1, n+1):\n",
    "    print(i)"
   ]
  },
  {
   "cell_type": "markdown",
   "id": "488f2dfe-4ad5-46f8-8d1d-df957ee0c451",
   "metadata": {},
   "source": [
    "### 5-Write a program that prompts the user to enter a number n, and then prints all the odd numbers between 1 and n.?"
   ]
  },
  {
   "cell_type": "code",
   "execution_count": 14,
   "id": "cc5f98e4-7f65-49a7-800f-101490cedda3",
   "metadata": {
    "scrolled": true
   },
   "outputs": [
    {
     "name": "stdin",
     "output_type": "stream",
     "text": [
      "enter a num from user 10\n"
     ]
    },
    {
     "name": "stdout",
     "output_type": "stream",
     "text": [
      "1\n",
      "3\n",
      "5\n",
      "7\n",
      "9\n"
     ]
    }
   ],
   "source": [
    "n = int(input(\"enter a num from user\"))\n",
    "for i in range(1,n):\n",
    "    if i % 2!=0:\n",
    "        print(i)"
   ]
  },
  {
   "cell_type": "markdown",
   "id": "5e58af1a-6d16-43cd-91d7-bd0b7404cebb",
   "metadata": {},
   "source": [
    "### 6. Write a program that prints 'Happy Birthday!' five times on screen.?"
   ]
  },
  {
   "cell_type": "code",
   "execution_count": 15,
   "id": "7a108efd-ecf5-4124-99ff-c9fa6c9e46e6",
   "metadata": {},
   "outputs": [
    {
     "name": "stdout",
     "output_type": "stream",
     "text": [
      "Happy bithday to you\n",
      "Happy bithday to you\n",
      "Happy bithday to you\n",
      "Happy bithday to you\n",
      "Happy bithday to you\n"
     ]
    }
   ],
   "source": [
    "count =1\n",
    "while count <=5:\n",
    "    print(\"Happy bithday to you\")\n",
    "    count +=1"
   ]
  },
  {
   "cell_type": "markdown",
   "id": "337c40a6-67e5-4775-9be9-aa44b316a0f3",
   "metadata": {},
   "source": [
    "### 7-Write a program that takes a number n as input from the user and generates the first n terms of the series formed by squaring the natural numbers"
   ]
  },
  {
   "cell_type": "code",
   "execution_count": 17,
   "id": "07a3705e-ec0c-4c38-9880-d760b989953b",
   "metadata": {},
   "outputs": [
    {
     "name": "stdin",
     "output_type": "stream",
     "text": [
      "Num enter from user side is 6\n"
     ]
    },
    {
     "name": "stdout",
     "output_type": "stream",
     "text": [
      "1\n",
      "4\n",
      "9\n",
      "16\n",
      "25\n",
      "36\n"
     ]
    }
   ],
   "source": [
    "n =int(input(\"Num enter from user side is\"))\n",
    "for i in range(1, n + 1):\n",
    "    print(i ** 2)"
   ]
  },
  {
   "cell_type": "markdown",
   "id": "952a6579-87c7-45cc-82bc-81a61eba901a",
   "metadata": {},
   "source": [
    "### 8-Write a program that prompts the user to input a number and prints its multiplication table.?"
   ]
  },
  {
   "cell_type": "code",
   "execution_count": 12,
   "id": "e243b4b0-0b93-4f5f-b2a9-1d1949e496db",
   "metadata": {},
   "outputs": [
    {
     "name": "stdin",
     "output_type": "stream",
     "text": [
      "num enter from user 8\n"
     ]
    },
    {
     "name": "stdout",
     "output_type": "stream",
     "text": [
      "8 x 1 = 8\n",
      "8 x 2 = 16\n",
      "8 x 3 = 24\n",
      "8 x 4 = 32\n",
      "8 x 5 = 40\n",
      "8 x 6 = 48\n",
      "8 x 7 = 56\n",
      "8 x 8 = 64\n",
      "8 x 9 = 72\n",
      "8 x 10 = 80\n"
     ]
    }
   ],
   "source": [
    "n = int(input(\"num enter from user\"))\n",
    "for i in range(1,11):\n",
    " print(f\"{n} x {i} = {n * i}\")"
   ]
  },
  {
   "cell_type": "markdown",
   "id": "0237a1b5-327e-4870-b855-8565340c6378",
   "metadata": {},
   "source": [
    "### 9-Write a Python program to print the first 8 terms of an arithmetic progression starting with 3 and having a common difference of 4,\n",
    "*\n",
    "The program should output the following sequenc e3 7 11 15 19 23 27 31 3"
   ]
  },
  {
   "cell_type": "code",
   "execution_count": 18,
   "id": "479bf76d-0900-4146-a172-b8aa4effe0af",
   "metadata": {},
   "outputs": [
    {
     "name": "stdout",
     "output_type": "stream",
     "text": [
      "3\n",
      "7\n",
      "11\n",
      "15\n",
      "19\n",
      "23\n",
      "27\n",
      "31\n"
     ]
    }
   ],
   "source": [
    "starting_term = 3\n",
    "common_difference = 4\n",
    "for i in range(8):\n",
    "    n = starting_term + i * common_difference\n",
    "    print(n)    "
   ]
  },
  {
   "cell_type": "markdown",
   "id": "a2e36dee-5363-45a4-95f2-81b98c94cd07",
   "metadata": {},
   "source": [
    "### 10-Write a Python program to print the first 6 terms of a geometric sequence starting with 2 and having a common ratio of 3\n",
    "*\n",
    "The program should output the following sequenc \r\n",
    "2 6 18 54 162 486"
   ]
  },
  {
   "cell_type": "code",
   "execution_count": 3,
   "id": "d49bf25e-1b05-4580-a4db-539eb52184bb",
   "metadata": {},
   "outputs": [
    {
     "name": "stdout",
     "output_type": "stream",
     "text": [
      "2\n",
      "6\n",
      "18\n",
      "54\n",
      "162\n",
      "486\n"
     ]
    }
   ],
   "source": [
    "starting_term = 2\n",
    "common_ratio = 3\n",
    "for i in range(6):\n",
    "    term = starting_term * (common_ratio ** i)\n",
    "    print(term)"
   ]
  },
  {
   "cell_type": "markdown",
   "id": "9e2ac9b6-a1c7-4451-bf99-ce5d42fb4e69",
   "metadata": {},
   "source": [
    "### 11. Write a program that asks the user for a positive integer value. The program should calculate the sum of all the integers from 1 up to the number entered. For example, if\r",
    "*\n",
    "the user enters 20, the loop will find the sum of 1, 2, 3, 4, ... 20."
   ]
  },
  {
   "cell_type": "code",
   "execution_count": 4,
   "id": "ba2d7d02-949d-4964-b1ab-28047275a60b",
   "metadata": {},
   "outputs": [
    {
     "name": "stdin",
     "output_type": "stream",
     "text": [
      "Enter a number: 20\n"
     ]
    },
    {
     "name": "stdout",
     "output_type": "stream",
     "text": [
      "1\n",
      "3\n",
      "6\n",
      "10\n",
      "15\n",
      "21\n",
      "28\n",
      "36\n",
      "45\n",
      "55\n",
      "66\n",
      "78\n",
      "91\n",
      "105\n",
      "120\n",
      "136\n",
      "153\n",
      "171\n",
      "190\n",
      "210\n"
     ]
    }
   ],
   "source": [
    "n = int(input(\"Enter a number:\"))\n",
    "sum = 0\n",
    "for i in range(1,n + 1):\n",
    "    sum += i\n",
    "    print(sum)"
   ]
  },
  {
   "cell_type": "markdown",
   "id": "cb51d125-3cf1-4810-8bae-cd740cdd0feb",
   "metadata": {},
   "source": [
    "### 12. write a program that takes a positive integer N as input and calculates the sum of the reciprocals of all numbers from 1 up to N. The program should display the final sum.\n",
    "Output of the program should be like:*\n",
    "\r\n",
    "Enter a positive integer: *\n",
    "5\r\n",
    "The sum of reciprocals from 1 to 5 is: 2.28"
   ]
  },
  {
   "cell_type": "code",
   "execution_count": 7,
   "id": "97abfbfb-3005-41d3-b9e5-47e742615a88",
   "metadata": {},
   "outputs": [
    {
     "name": "stdin",
     "output_type": "stream",
     "text": [
      "Enter a positive integer:  5\n"
     ]
    },
    {
     "name": "stdout",
     "output_type": "stream",
     "text": [
      "The sum of reciprocals from 1 to 5 is: 2.283333333333333\n"
     ]
    }
   ],
   "source": [
    "N = int(input(\"Enter a positive integer: \"))\n",
    "sum_reciprocal = 0.0\n",
    "for i in range(1, N + 1):\n",
    "    sum_reciprocal += 1 / i\n",
    "    \n",
    "print(f\"The sum of reciprocals from 1 to {N} is: {sum_reciprocal}\")"
   ]
  },
  {
   "cell_type": "markdown",
   "id": "2ae9e183-603e-4421-983e-41e7b1ade165",
   "metadata": {},
   "source": [
    "### 13. Write a program that prompts the user to enter a number and repeats this process 5 times. The program should accumulate the numbers entered and then display the final running total.\r",
    "*\n",
    "Sample Output:*\r\n",
    "Enter a number: 1*0\r\n",
    "Enter a number: *15\r\n",
    "Enter a number:* 35\r\n",
    "Enter a number*: 40\r\n",
    "Enter a numbe*r: 50\r\n",
    "The final running total is: 150"
   ]
  },
  {
   "cell_type": "code",
   "execution_count": 8,
   "id": "20cc6fc4-bb65-4d61-888c-cb2a50a52ccd",
   "metadata": {},
   "outputs": [
    {
     "name": "stdin",
     "output_type": "stream",
     "text": [
      "Enter a number: 10\n",
      "Enter a number: 15\n",
      "Enter a number: 35\n",
      "Enter a number: 40\n",
      "Enter a number: 50\n"
     ]
    },
    {
     "name": "stdout",
     "output_type": "stream",
     "text": [
      "The final running total is: 150\n"
     ]
    }
   ],
   "source": [
    "sum = 0\n",
    "for i in range(5):\n",
    "    n = int(input(\"Enter a number:\"))\n",
    "    sum += n\n",
    "\n",
    "print(\"The final running total is:\", sum)"
   ]
  },
  {
   "cell_type": "markdown",
   "id": "cf62cdbf-8bdf-48b6-bea8-67f581868b21",
   "metadata": {},
   "source": [
    "### 14. Write a program that prompts the user to enter a positive integer and calculates its factorial. The factorial of a positive integer 'n' is denoted as 'n!' and is calculated by multiplying all the integers from 1 to 'n' together. For example, the factorial of 5 (denoted as 5!) is calculated as 1 x 2 x 3 x 4 x 5.\r",
    "## \n",
    "The program should display the factorial value if the input is a positive number, or display a message stating that the factorial does not exist for negative numbers. Additionally, for an input of zero, the program should output that the factorial of 0 is 1."
   ]
  },
  {
   "cell_type": "code",
   "execution_count": 9,
   "id": "5eddf863-837f-4049-9dbd-de5f26c1fa71",
   "metadata": {},
   "outputs": [
    {
     "name": "stdin",
     "output_type": "stream",
     "text": [
      "Enter a positive integer:  5\n"
     ]
    },
    {
     "name": "stdout",
     "output_type": "stream",
     "text": [
      "1\n",
      "2\n",
      "6\n",
      "24\n",
      "120\n",
      "The factorial of 5! is 120.\n"
     ]
    }
   ],
   "source": [
    "n = int(input(\"Enter a positive integer: \"))\n",
    "fact = 1\n",
    "for i in range(1, n + 1):\n",
    "    fact *= i\n",
    "    print(fact)\n",
    "if n < 0:\n",
    "    print(\"Factorial does not exist for negative numbers.\")\n",
    "elif n > 0:\n",
    "    print(f\"The factorial of {n}! is {fact}.\")\n",
    "elif n == 0:\n",
    "    print(f\"The factorial of {n}! is 1.\")\n",
    "else :\n",
    "    print(None)"
   ]
  },
  {
   "cell_type": "markdown",
   "id": "06f64de8-6b8f-4187-b34b-d51ee90510cc",
   "metadata": {},
   "source": [
    "### 15. Write a Python program that prompts the user to enter a base number and an exponent, and then calculates the power of the base to the exponent. The program should not use the exponentiation operator (**) or the math.pow() function. The program should handle both positive and negative exponents."
   ]
  },
  {
   "cell_type": "code",
   "execution_count": 11,
   "id": "34b980be-ca9d-4e4b-bfcd-87b3b6a0578f",
   "metadata": {},
   "outputs": [
    {
     "name": "stdin",
     "output_type": "stream",
     "text": [
      "Enter the base number:  22\n",
      "Enter the exponent:  1\n"
     ]
    },
    {
     "name": "stdout",
     "output_type": "stream",
     "text": [
      "22.0 raised to the power of 1 is: 22.0\n"
     ]
    }
   ],
   "source": [
    "result = 1\n",
    "base = float(input(\"Enter the base number: \"))\n",
    "exponent = int(input(\"Enter the exponent: \"))       \n",
    "if exponent > 0:\n",
    "    for i in range(exponent):\n",
    "        result *= base\n",
    "elif exponent < 0:\n",
    "    for i in range(-exponent):\n",
    "        result *= base\n",
    "        result = 1 / result\n",
    "else:\n",
    "    print(result)\n",
    "\n",
    "print(f\"{base} raised to the power of {exponent} is: {base ** exponent}\")"
   ]
  },
  {
   "cell_type": "code",
   "execution_count": null,
   "id": "2af1c4ba-5db7-4a39-80e8-f9102169c040",
   "metadata": {},
   "outputs": [],
   "source": []
  }
 ],
 "metadata": {
  "kernelspec": {
   "display_name": "Python 3 (ipykernel)",
   "language": "python",
   "name": "python3"
  },
  "language_info": {
   "codemirror_mode": {
    "name": "ipython",
    "version": 3
   },
   "file_extension": ".py",
   "mimetype": "text/x-python",
   "name": "python",
   "nbconvert_exporter": "python",
   "pygments_lexer": "ipython3",
   "version": "3.11.7"
  }
 },
 "nbformat": 4,
 "nbformat_minor": 5
}
